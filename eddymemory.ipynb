{
  "nbformat": 4,
  "nbformat_minor": 0,
  "metadata": {
    "colab": {
      "provenance": [],
      "authorship_tag": "ABX9TyMmDlkTe7Cytn0r+dklgBo1",
      "include_colab_link": true
    },
    "kernelspec": {
      "name": "python3",
      "display_name": "Python 3"
    },
    "language_info": {
      "name": "python"
    }
  },
  "cells": [
    {
      "cell_type": "markdown",
      "metadata": {
        "id": "view-in-github",
        "colab_type": "text"
      },
      "source": [
        "<a href=\"https://colab.research.google.com/github/LisaLi1224/Eddymemory/blob/main/eddymemory.ipynb\" target=\"_parent\"><img src=\"https://colab.research.google.com/assets/colab-badge.svg\" alt=\"Open In Colab\"/></a>"
      ]
    },
    {
      "cell_type": "code",
      "execution_count": 382,
      "metadata": {
        "id": "oSC5Id-TBJwJ"
      },
      "outputs": [],
      "source": [
        "#!pip install signalz\n",
        "import matplotlib.pyplot as plt\n",
        "import numpy as np\n",
        "import math\n",
        "import signalz\n",
        "from signalz.misc import check_type_or_raise\n",
        "from signalz.generators.gaussian_white_noise import gaussian_white_noise\n",
        "from signalz.generators.uniform_white_noise import uniform_white_noise\n",
        "import tensorflow as tf\n",
        "from tensorflow import keras\n",
        "from sklearn.model_selection import train_test_split\n",
        "import math"
      ]
    },
    {
      "cell_type": "code",
      "source": [
        "# generate red-noise time series\n",
        "# source: https://github.com/matousc89/signalz/blob/master/signalz/generators/brownian_noise.py\n",
        "def brownian_noise(n, leak=0., start=0, std=1., source=\"gaussian\"):\n",
        "    # check inputs\n",
        "    check_type_or_raise(n, int, \"n\")\n",
        "    check_type_or_raise(leak, float, \"leak\")\n",
        "    if not 0. <= leak < 1:\n",
        "        raise ValueError(\"Leak must be between 0. and 1.\")\n",
        "    # generate white noise\n",
        "    if source == \"gaussian\":\n",
        "        x = np.random.normal(0, std, n)\n",
        "    elif source == \"uniform\":\n",
        "        x = np.random.uniform(-std / 2., std / 2., n)\n",
        "    else:\n",
        "        raise ValueError(\"Source must be gaussian or uniform\")\n",
        "    # add offset\n",
        "    x[0] = start\n",
        "    # integrate the white noise\n",
        "    for i in range(1, n):\n",
        "        x[i] += x[i - 1] * (1 - leak)\n",
        "    return x\n"
      ],
      "metadata": {
        "id": "waDmTx4oBQ_7"
      },
      "execution_count": 383,
      "outputs": []
    },
    {
      "cell_type": "code",
      "source": [
        "time_interval = 6 # corresponding time interval duration in say days\n",
        "N_points = 300 # red-noise vector length\n",
        "\n",
        "\n",
        "# define pre-defined kernel\n",
        "tau = 0.2\n",
        "tspan = np.linspace(0, time_interval, N_points)\n",
        "dt = tspan[1]-tspan[0]\n",
        "pre_kernel = np.exp(-tspan/tau)\n",
        "kernel_size = 100 # truncate the kernel to include some small number of points since we are assuming it decays with time\n",
        "pre_kernel = pre_kernel[:kernel_size] # now kernel has a smaller number of points relative to the Tgradient time series\n",
        "print('size of pre_kernel: ' + str(len(pre_kernel)))\n",
        "tspan_kernel = tspan[:kernel_size]\n",
        "print('size of tspan_kernel: ' + str(len(tspan_kernel)))\n",
        "\n",
        "tspan_convolved = tspan[len(pre_kernel)-1:] # the correct way of assigning time to the convolved timeseries\n",
        "print('size of tspan_convolved: ' + str(len(tspan_convolved)))\n",
        "plt.plot(pre_kernel)"
      ],
      "metadata": {
        "colab": {
          "base_uri": "https://localhost:8080/",
          "height": 336
        },
        "id": "-tdhQbMxDdWo",
        "outputId": "fe314645-59da-49a4-cff6-6e2c4239fbae"
      },
      "execution_count": 384,
      "outputs": [
        {
          "output_type": "stream",
          "name": "stdout",
          "text": [
            "size of pre_kernel: 100\n",
            "size of tspan_kernel: 100\n",
            "size of tspan_convolved: 201\n"
          ]
        },
        {
          "output_type": "execute_result",
          "data": {
            "text/plain": [
              "[<matplotlib.lines.Line2D at 0x7fa0d6ee74c0>]"
            ]
          },
          "metadata": {},
          "execution_count": 384
        },
        {
          "output_type": "display_data",
          "data": {
            "text/plain": [
              "<Figure size 432x288 with 1 Axes>"
            ],
            "image/png": "[encoded data removed]"
          },
          "metadata": {
            "needs_background": "light"
          }
        }
      ]
    },
    {
      "cell_type": "code",
      "source": [
        "# red-noise vector length of m_sample\n",
        "m_sample = 6500; #6500-7000\n",
        "temp_grad = np.zeros((m_sample,N_points,1))\n",
        "F_flux = np.zeros((m_sample,N_points - kernel_size + 1,1))\n",
        "for i in range(m_sample):\n",
        "  temp_grad[i,:,0] = brownian_noise(N_points, leak=0.1, start=0, std=1, source='gaussian')\n",
        "  F_flux[i,:,0] = np.convolve(pre_kernel, temp_grad[i,:,0], mode='valid')\n",
        "\n",
        "# normalized series\n",
        "#F_flux=F_flux/np.std(F_flux);  \n",
        "#temp_grad=temp_grad/np.std(temp_grad);\n"
      ],
      "metadata": {
        "id": "s7o_8zTlCq_9"
      },
      "execution_count": 385,
      "outputs": []
    },
    {
      "cell_type": "code",
      "source": [
        "plt.plot(tspan, temp_grad[1,:,0])\n",
        "plt.plot(tspan_convolved, F_flux[1,:,0])\n",
        "\n",
        "plt.plot(tspan_kernel, pre_kernel)"
      ],
      "metadata": {
        "id": "unoo7SWaBRK0",
        "colab": {
          "base_uri": "https://localhost:8080/",
          "height": 283
        },
        "outputId": "68b9e6f7-23b8-4d47-ee62-1248bcbc4e78"
      },
      "execution_count": 386,
      "outputs": [
        {
          "output_type": "execute_result",
          "data": {
            "text/plain": [
              "[<matplotlib.lines.Line2D at 0x7fa0d6e3a070>]"
            ]
          },
          "metadata": {},
          "execution_count": 386
        },
        {
          "output_type": "display_data",
          "data": {
            "text/plain": [
              "<Figure size 432x288 with 1 Axes>"
            ],
            "image/png": "[encoded data removed]"
          },
          "metadata": {
            "needs_background": "light"
          }
        }
      ]
    },
    {
      "cell_type": "code",
      "source": [
        "# build single layer conv1d model\n",
        "input_series = keras.layers.Input(temp_grad.shape[1:])\n",
        "output_series = keras.layers.Conv1D(filters=1, padding='valid', kernel_size=kernel_size, strides=1, activation='linear', input_shape=(temp_grad.shape[1:]))(input_series)\n",
        "model = keras.Model(input_series, output_series)\n",
        "model.compile(\n",
        "    optimizer='adam',\n",
        "    loss= 'mean_squared_error',\n",
        "    metrics=['mean_squared_error'])\n",
        "model.summary()"
      ],
      "metadata": {
        "id": "iOjXJaoIBdtB",
        "colab": {
          "base_uri": "https://localhost:8080/"
        },
        "outputId": "565d29af-0593-4261-e33e-68e5b38772ca"
      },
      "execution_count": 387,
      "outputs": [
        {
          "output_type": "stream",
          "name": "stdout",
          "text": [
            "Model: \"model_31\"\n",
            "_________________________________________________________________\n",
            " Layer (type)                Output Shape              Param #   \n",
            "=================================================================\n",
            " input_32 (InputLayer)       [(None, 300, 1)]          0         \n",
            "                                                                 \n",
            " conv1d_31 (Conv1D)          (None, 201, 1)            101       \n",
            "                                                                 \n",
            "=================================================================\n",
            "Total params: 101\n",
            "Trainable params: 101\n",
            "Non-trainable params: 0\n",
            "_________________________________________________________________\n"
          ]
        }
      ]
    },
    {
      "cell_type": "code",
      "source": [
        "# split train and test sets\n",
        "X_train, X_rem, y_train, y_rem = train_test_split(temp_grad,F_flux, train_size=0.8)"
      ],
      "metadata": {
        "id": "-xHQsEVoBdvk"
      },
      "execution_count": 388,
      "outputs": []
    },
    {
      "cell_type": "code",
      "source": [
        "# train the model\n",
        "model.fit(X_train, y_train, epochs=50, validation_data = (X_rem, y_rem))"
      ],
      "metadata": {
        "id": "tRYqCLUFBd0j",
        "colab": {
          "base_uri": "https://localhost:8080/"
        },
        "outputId": "6bbe9e47-532f-4a4f-c6d0-62a70fe35660"
      },
      "execution_count": 389,
      "outputs": [
        {
          "output_type": "stream",
          "name": "stdout",
          "text": [
            "Epoch 1/50\n",
            "163/163 [==============================] - 2s 10ms/step - loss: 195.9782 - mean_squared_error: 195.9781 - val_loss: 128.5671 - val_mean_squared_error: 128.5671\n",
            "Epoch 2/50\n",
            "163/163 [==============================] - 2s 10ms/step - loss: 92.4473 - mean_squared_error: 92.4473 - val_loss: 64.0937 - val_mean_squared_error: 64.0937\n",
            "Epoch 3/50\n",
            "163/163 [==============================] - 3s 17ms/step - loss: 47.1479 - mean_squared_error: 47.1479 - val_loss: 33.6996 - val_mean_squared_error: 33.6996\n",
            "Epoch 4/50\n",
            "163/163 [==============================] - 3s 17ms/step - loss: 25.3226 - mean_squared_error: 25.3227 - val_loss: 18.5870 - val_mean_squared_error: 18.5870\n",
            "Epoch 5/50\n",
            "163/163 [==============================] - 2s 9ms/step - loss: 14.2867 - mean_squared_error: 14.2867 - val_loss: 10.7517 - val_mean_squared_error: 10.7517\n",
            "Epoch 6/50\n",
            "163/163 [==============================] - 2s 9ms/step - loss: 8.4371 - mean_squared_error: 8.4371 - val_loss: 6.4863 - val_mean_squared_error: 6.4863\n",
            "Epoch 7/50\n",
            "163/163 [==============================] - 1s 9ms/step - loss: 5.1832 - mean_squared_error: 5.1832 - val_loss: 4.0544 - val_mean_squared_error: 4.0544\n",
            "Epoch 8/50\n",
            "163/163 [==============================] - 2s 9ms/step - loss: 3.2903 - mean_squared_error: 3.2903 - val_loss: 2.6109 - val_mean_squared_error: 2.6109\n",
            "Epoch 9/50\n",
            "163/163 [==============================] - 2s 10ms/step - loss: 2.1430 - mean_squared_error: 2.1430 - val_loss: 1.7205 - val_mean_squared_error: 1.7205\n",
            "Epoch 10/50\n",
            "163/163 [==============================] - 2s 9ms/step - loss: 1.4243 - mean_squared_error: 1.4243 - val_loss: 1.1538 - val_mean_squared_error: 1.1538\n",
            "Epoch 11/50\n",
            "163/163 [==============================] - 2s 9ms/step - loss: 0.9631 - mean_squared_error: 0.9631 - val_loss: 0.7864 - val_mean_squared_error: 0.7864\n",
            "Epoch 12/50\n",
            "163/163 [==============================] - 1s 9ms/step - loss: 0.6615 - mean_squared_error: 0.6615 - val_loss: 0.5447 - val_mean_squared_error: 0.5447\n",
            "Epoch 13/50\n",
            "163/163 [==============================] - 2s 9ms/step - loss: 0.4614 - mean_squared_error: 0.4614 - val_loss: 0.3832 - val_mean_squared_error: 0.3832\n",
            "Epoch 14/50\n",
            "163/163 [==============================] - 2s 9ms/step - loss: 0.3272 - mean_squared_error: 0.3272 - val_loss: 0.2743 - val_mean_squared_error: 0.2743\n",
            "Epoch 15/50\n",
            "163/163 [==============================] - 2s 9ms/step - loss: 0.2363 - mean_squared_error: 0.2363 - val_loss: 0.2005 - val_mean_squared_error: 0.2005\n",
            "Epoch 16/50\n",
            "163/163 [==============================] - 2s 9ms/step - loss: 0.1743 - mean_squared_error: 0.1743 - val_loss: 0.1497 - val_mean_squared_error: 0.1497\n",
            "Epoch 17/50\n",
            "163/163 [==============================] - 2s 10ms/step - loss: 0.1316 - mean_squared_error: 0.1316 - val_loss: 0.1146 - val_mean_squared_error: 0.1146\n",
            "Epoch 18/50\n",
            "163/163 [==============================] - 2s 9ms/step - loss: 0.1018 - mean_squared_error: 0.1018 - val_loss: 0.0900 - val_mean_squared_error: 0.0900\n",
            "Epoch 19/50\n",
            "163/163 [==============================] - 2s 9ms/step - loss: 0.0808 - mean_squared_error: 0.0808 - val_loss: 0.0724 - val_mean_squared_error: 0.0724\n",
            "Epoch 20/50\n",
            "163/163 [==============================] - 2s 9ms/step - loss: 0.0657 - mean_squared_error: 0.0657 - val_loss: 0.0596 - val_mean_squared_error: 0.0596\n",
            "Epoch 21/50\n",
            "163/163 [==============================] - 2s 9ms/step - loss: 0.0546 - mean_squared_error: 0.0546 - val_loss: 0.0501 - val_mean_squared_error: 0.0501\n",
            "Epoch 22/50\n",
            "163/163 [==============================] - 2s 9ms/step - loss: 0.0461 - mean_squared_error: 0.0461 - val_loss: 0.0426 - val_mean_squared_error: 0.0426\n",
            "Epoch 23/50\n",
            "163/163 [==============================] - 2s 10ms/step - loss: 0.0395 - mean_squared_error: 0.0395 - val_loss: 0.0367 - val_mean_squared_error: 0.0367\n",
            "Epoch 24/50\n",
            "163/163 [==============================] - 2s 10ms/step - loss: 0.0341 - mean_squared_error: 0.0341 - val_loss: 0.0319 - val_mean_squared_error: 0.0319\n",
            "Epoch 25/50\n",
            "163/163 [==============================] - 2s 10ms/step - loss: 0.0297 - mean_squared_error: 0.0297 - val_loss: 0.0278 - val_mean_squared_error: 0.0278\n",
            "Epoch 26/50\n",
            "163/163 [==============================] - 2s 10ms/step - loss: 0.0259 - mean_squared_error: 0.0259 - val_loss: 0.0242 - val_mean_squared_error: 0.0242\n",
            "Epoch 27/50\n",
            "163/163 [==============================] - 2s 9ms/step - loss: 0.0226 - mean_squared_error: 0.0226 - val_loss: 0.0212 - val_mean_squared_error: 0.0212\n",
            "Epoch 28/50\n",
            "163/163 [==============================] - 2s 9ms/step - loss: 0.0197 - mean_squared_error: 0.0197 - val_loss: 0.0185 - val_mean_squared_error: 0.0185\n",
            "Epoch 29/50\n",
            "163/163 [==============================] - 1s 9ms/step - loss: 0.0172 - mean_squared_error: 0.0172 - val_loss: 0.0162 - val_mean_squared_error: 0.0162\n",
            "Epoch 30/50\n",
            "163/163 [==============================] - 2s 9ms/step - loss: 0.0150 - mean_squared_error: 0.0150 - val_loss: 0.0141 - val_mean_squared_error: 0.0141\n",
            "Epoch 31/50\n",
            "163/163 [==============================] - 1s 9ms/step - loss: 0.0131 - mean_squared_error: 0.0131 - val_loss: 0.0123 - val_mean_squared_error: 0.0123\n",
            "Epoch 32/50\n",
            "163/163 [==============================] - 2s 10ms/step - loss: 0.0114 - mean_squared_error: 0.0114 - val_loss: 0.0107 - val_mean_squared_error: 0.0107\n",
            "Epoch 33/50\n",
            "163/163 [==============================] - 1s 9ms/step - loss: 0.0099 - mean_squared_error: 0.0099 - val_loss: 0.0093 - val_mean_squared_error: 0.0093\n",
            "Epoch 34/50\n",
            "163/163 [==============================] - 2s 9ms/step - loss: 0.0086 - mean_squared_error: 0.0086 - val_loss: 0.0080 - val_mean_squared_error: 0.0080\n",
            "Epoch 35/50\n",
            "163/163 [==============================] - 1s 9ms/step - loss: 0.0074 - mean_squared_error: 0.0074 - val_loss: 0.0069 - val_mean_squared_error: 0.0069\n",
            "Epoch 36/50\n",
            "163/163 [==============================] - 1s 9ms/step - loss: 0.0064 - mean_squared_error: 0.0064 - val_loss: 0.0059 - val_mean_squared_error: 0.0059\n",
            "Epoch 37/50\n",
            "163/163 [==============================] - 2s 9ms/step - loss: 0.0055 - mean_squared_error: 0.0055 - val_loss: 0.0051 - val_mean_squared_error: 0.0051\n",
            "Epoch 38/50\n",
            "163/163 [==============================] - 2s 9ms/step - loss: 0.0047 - mean_squared_error: 0.0047 - val_loss: 0.0043 - val_mean_squared_error: 0.0043\n",
            "Epoch 39/50\n",
            "163/163 [==============================] - 2s 9ms/step - loss: 0.0040 - mean_squared_error: 0.0040 - val_loss: 0.0037 - val_mean_squared_error: 0.0037\n",
            "Epoch 40/50\n",
            "163/163 [==============================] - 2s 9ms/step - loss: 0.0033 - mean_squared_error: 0.0033 - val_loss: 0.0031 - val_mean_squared_error: 0.0031\n",
            "Epoch 41/50\n",
            "163/163 [==============================] - 2s 10ms/step - loss: 0.0028 - mean_squared_error: 0.0028 - val_loss: 0.0025 - val_mean_squared_error: 0.0025\n",
            "Epoch 42/50\n",
            "163/163 [==============================] - 2s 10ms/step - loss: 0.0023 - mean_squared_error: 0.0023 - val_loss: 0.0021 - val_mean_squared_error: 0.0021\n",
            "Epoch 43/50\n",
            "163/163 [==============================] - 1s 9ms/step - loss: 0.0019 - mean_squared_error: 0.0019 - val_loss: 0.0017 - val_mean_squared_error: 0.0017\n",
            "Epoch 44/50\n",
            "163/163 [==============================] - 2s 9ms/step - loss: 0.0015 - mean_squared_error: 0.0015 - val_loss: 0.0013 - val_mean_squared_error: 0.0013\n",
            "Epoch 45/50\n",
            "163/163 [==============================] - 2s 9ms/step - loss: 0.0012 - mean_squared_error: 0.0012 - val_loss: 0.0010 - val_mean_squared_error: 0.0010\n",
            "Epoch 46/50\n",
            "163/163 [==============================] - 2s 10ms/step - loss: 9.1389e-04 - mean_squared_error: 9.1389e-04 - val_loss: 7.9883e-04 - val_mean_squared_error: 7.9883e-04\n",
            "Epoch 47/50\n",
            "163/163 [==============================] - 2s 10ms/step - loss: 6.9531e-04 - mean_squared_error: 6.9531e-04 - val_loss: 6.0107e-04 - val_mean_squared_error: 6.0107e-04\n",
            "Epoch 48/50\n",
            "163/163 [==============================] - 2s 10ms/step - loss: 5.1796e-04 - mean_squared_error: 5.1796e-04 - val_loss: 4.4249e-04 - val_mean_squared_error: 4.4249e-04\n",
            "Epoch 49/50\n",
            "163/163 [==============================] - 2s 10ms/step - loss: 3.7707e-04 - mean_squared_error: 3.7707e-04 - val_loss: 3.1785e-04 - val_mean_squared_error: 3.1785e-04\n",
            "Epoch 50/50\n",
            "163/163 [==============================] - 2s 10ms/step - loss: 2.6769e-04 - mean_squared_error: 2.6769e-04 - val_loss: 2.2245e-04 - val_mean_squared_error: 2.2245e-04\n"
          ]
        },
        {
          "output_type": "execute_result",
          "data": {
            "text/plain": [
              "<keras.callbacks.History at 0x7fa0d6dff5e0>"
            ]
          },
          "metadata": {},
          "execution_count": 389
        }
      ]
    },
    {
      "cell_type": "code",
      "source": [
        "# use model to predict y_rem\n",
        "y_pred = model.predict(X_rem)"
      ],
      "metadata": {
        "colab": {
          "base_uri": "https://localhost:8080/"
        },
        "id": "XEWZaViuJ3Uj",
        "outputId": "73b81b55-d3af-4702-d9e9-da62a40ad8fd"
      },
      "execution_count": 390,
      "outputs": [
        {
          "output_type": "stream",
          "name": "stdout",
          "text": [
            "41/41 [==============================] - 0s 2ms/step\n"
          ]
        }
      ]
    },
    {
      "cell_type": "code",
      "source": [
        "plt.plot(y_rem[2,:,0])\n",
        "plt.plot(y_pred[2,:,0],'--')"
      ],
      "metadata": {
        "colab": {
          "base_uri": "https://localhost:8080/",
          "height": 283
        },
        "id": "t8kBOfCFJ-YI",
        "outputId": "4b3f2736-34b5-4e03-be60-c7634f1cc20f"
      },
      "execution_count": 391,
      "outputs": [
        {
          "output_type": "execute_result",
          "data": {
            "text/plain": [
              "[<matplotlib.lines.Line2D at 0x7fa0d6cadbe0>]"
            ]
          },
          "metadata": {},
          "execution_count": 391
        },
        {
          "output_type": "display_data",
          "data": {
            "text/plain": [
              "<Figure size 432x288 with 1 Axes>"
            ],
            "image/png": "[encoded data removed]"
          },
          "metadata": {
            "needs_background": "light"
          }
        }
      ]
    },
    {
      "cell_type": "code",
      "source": [
        "# get the kernel\n",
        "conv_kernel = model.weights[0][:,0,0]\n",
        "a = tf.constant(conv_kernel)\n",
        "conv_kernel = a.numpy()\n",
        "conv_kernel = conv_kernel[::-1]\n",
        "plt.plot(conv_kernel,'--')\n",
        "plt.plot(pre_kernel)"
      ],
      "metadata": {
        "id": "cXayGNW0Bd3C",
        "colab": {
          "base_uri": "https://localhost:8080/",
          "height": 283
        },
        "outputId": "ba939c40-e38c-4852-c24b-046fb14a8a5f"
      },
      "execution_count": 392,
      "outputs": [
        {
          "output_type": "execute_result",
          "data": {
            "text/plain": [
              "[<matplotlib.lines.Line2D at 0x7fa0d6cdd250>]"
            ]
          },
          "metadata": {},
          "execution_count": 392
        },
        {
          "output_type": "display_data",
          "data": {
            "text/plain": [
              "<Figure size 432x288 with 1 Axes>"
            ],
            "image/png": "[encoded data removed]"
          },
          "metadata": {
            "needs_background": "light"
          }
        }
      ]
    },
    {
      "cell_type": "code",
      "source": [],
      "metadata": {
        "id": "6vFPgX8GKYpP"
      },
      "execution_count": 392,
      "outputs": []
    }
  ]
}